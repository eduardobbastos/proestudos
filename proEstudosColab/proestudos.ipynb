{
  "nbformat": 4,
  "nbformat_minor": 0,
  "metadata": {
    "colab": {
      "provenance": [],
      "mount_file_id": "1yXtJtMfljlPBiUDaXv4QrxlYferA29An",
      "authorship_tag": "ABX9TyOdGeFoctU5KhagIOTngP1M",
      "include_colab_link": true
    },
    "kernelspec": {
      "name": "python3",
      "display_name": "Python 3"
    },
    "language_info": {
      "name": "python"
    }
  },
  "cells": [
    {
      "cell_type": "markdown",
      "metadata": {
        "id": "view-in-github",
        "colab_type": "text"
      },
      "source": [
        "<a href=\"https://colab.research.google.com/github/eduardobbastos/proestudos/blob/main/proEstudosColab/proestudos.ipynb\" target=\"_parent\"><img src=\"https://colab.research.google.com/assets/colab-badge.svg\" alt=\"Open In Colab\"/></a>"
      ]
    },
    {
      "cell_type": "code",
      "execution_count": 6,
      "metadata": {
        "id": "ixNa3rhYcIFM",
        "colab": {
          "base_uri": "https://localhost:8080/"
        },
        "outputId": "2b899c23-059c-4ee6-943b-42319f87cd0e"
      },
      "outputs": [
        {
          "output_type": "stream",
          "name": "stdout",
          "text": [
            "Requirement already satisfied: dlisio in /usr/local/lib/python3.10/dist-packages (1.0.1)\n",
            "Requirement already satisfied: numpy<2.0 in /usr/local/lib/python3.10/dist-packages (from dlisio) (1.25.2)\n"
          ]
        }
      ],
      "source": [
        "pip install dlisio"
      ]
    },
    {
      "cell_type": "code",
      "source": [
        "import dlisio\n",
        "import numpy as np\n",
        "import pandas as pd\n",
        "import matplotlib.pyplot as plt\n",
        "import os\n",
        "import requests\n",
        "import zipfile"
      ],
      "metadata": {
        "id": "PiBL5RAbkVfs"
      },
      "execution_count": 17,
      "outputs": []
    },
    {
      "cell_type": "code",
      "source": [
        "# prompt: Preciso de um comando em shell usando curl para pegar esse arquivo: https://reate.cprm.gov.br/arquivos/index.php/s/1H3Dg7jT4gInGMC#\n",
        "\n",
        "!curl -Lo reate.zip https://reate.cprm.gov.br/arquivos/index.php/s/1H3Dg7jT4gInGMC#\n"
      ],
      "metadata": {
        "colab": {
          "base_uri": "https://localhost:8080/"
        },
        "id": "Q7Fljf7WhGOw",
        "outputId": "3ff6b733-2b7b-4a37-b5d8-4204e53d9a81"
      },
      "execution_count": 3,
      "outputs": [
        {
          "output_type": "stream",
          "name": "stdout",
          "text": [
            "  % Total    % Received % Xferd  Average Speed   Time    Time     Time  Current\n",
            "                                 Dload  Upload   Total   Spent    Left  Speed\n",
            "100 15583  100 15583    0     0   5930      0  0:00:02  0:00:02 --:--:--  5929\n"
          ]
        }
      ]
    },
    {
      "cell_type": "code",
      "source": [
        "# prompt: conjunto de instruções em pyton que cria um pasta de chamada dados verifique se a pasa já existe se não cria.\n",
        "\n",
        "# Define o nome da pasta\n",
        "pasta_dados = \"dados\"\n",
        "\n",
        "# Verifica se a pasta já existe\n",
        "if not os.path.exists(pasta_dados):\n",
        "    # Cria a pasta\n",
        "    os.makedirs(pasta_dados)\n",
        "\n",
        "# Imprime uma mensagem de confirmação\n",
        "print(f\"Pasta '{pasta_dados}' criada com sucesso!\")\n"
      ],
      "metadata": {
        "colab": {
          "base_uri": "https://localhost:8080/"
        },
        "id": "QICf7Ec-jLT1",
        "outputId": "9d5a0d78-f812-46d8-b86d-b1cdddb552ed"
      },
      "execution_count": 10,
      "outputs": [
        {
          "output_type": "stream",
          "name": "stdout",
          "text": [
            "Pasta 'dados' criada com sucesso!\n"
          ]
        }
      ]
    },
    {
      "cell_type": "code",
      "source": [
        "# prompt: em py, uma requisição para http://reate.cprm.gov.br/arquivos/index.php/s/1p76hGJhZc2Szae/download aguarde o retorno e se download ponha na pasta dados\n",
        "\n",
        "\n",
        "\n",
        "url = \"https://reate.cprm.gov.br/arquivos/index.php/s/1p76hGJhZc2Szae/download\"\n",
        "\n",
        "# Send the request and get the response\n",
        "response = requests.get(url)\n",
        "\n",
        "# Check for successful response\n",
        "if response.status_code == 200:\n",
        "    # Get the filename from the response headers\n",
        "    filename = response.headers.get('Content-Disposition').split('filename=')[1].strip('\"')\n",
        "\n",
        "    # Construct the full path to the file\n",
        "    file_path = os.path.join(pasta_dados, filename)\n",
        "\n",
        "    # Write the file to disk\n",
        "    with open(file_path, 'wb') as f:\n",
        "        f.write(response.content)\n",
        "\n",
        "    # Print a message indicating that the file was downloaded successfully\n",
        "    print(f\"File '{filename}' downloaded successfully to '{file_path}'\")\n",
        "else:\n",
        "    # Print an error message\n",
        "    print(f\"Error: Failed to download file. Status code: {response.status_code}\")\n",
        "\n"
      ],
      "metadata": {
        "colab": {
          "base_uri": "https://localhost:8080/"
        },
        "id": "mRZJ5yIkkUzp",
        "outputId": "f986d0dd-5df4-42ec-eb17-76398437edf5"
      },
      "execution_count": 15,
      "outputs": [
        {
          "output_type": "stream",
          "name": "stdout",
          "text": [
            "File '21-Bacia_do_Tucano_Norte.zip' downloaded successfully to 'dados/21-Bacia_do_Tucano_Norte.zip'\n"
          ]
        }
      ]
    },
    {
      "cell_type": "code",
      "source": [
        "# prompt: usando py execute busca de arquivos .zip descompactar e excluir o arquivo depois de descompactar\n",
        "\n",
        "# Define the directory where the ZIP files are located\n",
        "zip_directory = \"/content/dados\"\n",
        "\n",
        "# Find all ZIP files in the directory\n",
        "zip_files = [f for f in os.listdir(zip_directory) if f.endswith(\".zip\")]\n",
        "\n",
        "# Iterate over the ZIP files and extract their contents\n",
        "for zip_file in zip_files:\n",
        "    # Get the full path to the ZIP file\n",
        "    zip_path = os.path.join(zip_directory, zip_file)\n",
        "\n",
        "    # Open the ZIP file\n",
        "    with zipfile.ZipFile(zip_path, \"r\") as zip_ref:\n",
        "        # Extract all files to the current directory\n",
        "        zip_ref.extractall(path=\"/content/dados\")\n",
        "\n",
        "    # Delete the ZIP file\n",
        "    os.remove(zip_path)\n",
        "\n",
        "# Print a message indicating that the operation was successful\n",
        "print(\"All ZIP files have been extracted and deleted successfully.\")\n"
      ],
      "metadata": {
        "colab": {
          "base_uri": "https://localhost:8080/"
        },
        "id": "i0Apt-qHoewy",
        "outputId": "5cccb305-bf43-416d-f250-a9f1dd53b7cb"
      },
      "execution_count": 18,
      "outputs": [
        {
          "output_type": "stream",
          "name": "stdout",
          "text": [
            "All ZIP files have been extracted and deleted successfully.\n"
          ]
        }
      ]
    }
  ]
}